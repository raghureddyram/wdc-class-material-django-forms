{
 "cells": [
  {
   "cell_type": "code",
   "execution_count": 1,
   "metadata": {},
   "outputs": [],
   "source": [
    "import os\n",
    "import django\n",
    "from django.conf import settings\n",
    "os.environ['DJANGO_SETTINGS_MODULE'] = 'sample_project.settings'\n",
    "django.setup()\n"
   ]
  },
  {
   "cell_type": "code",
   "execution_count": 2,
   "metadata": {},
   "outputs": [],
   "source": [
    "from sample_app.models import Country, Author, Book"
   ]
  },
  {
   "cell_type": "code",
   "execution_count": 4,
   "metadata": {},
   "outputs": [],
   "source": [
    "countries = [\n",
    "    'United States',\n",
    "    'England',\n",
    "    'Argentina',\n",
    "    'Scotland',\n",
    "]"
   ]
  },
  {
   "cell_type": "code",
   "execution_count": 5,
   "metadata": {},
   "outputs": [
    {
     "data": {
      "text/plain": [
       "[<Country: United States>,\n",
       " <Country: England>,\n",
       " <Country: Argentina>,\n",
       " <Country: Scotland>]"
      ]
     },
     "execution_count": 5,
     "metadata": {},
     "output_type": "execute_result"
    }
   ],
   "source": [
    "countries = [Country.objects.create(name=c) for c in countries]\n",
    "countries"
   ]
  },
  {
   "cell_type": "code",
   "execution_count": 6,
   "metadata": {},
   "outputs": [],
   "source": [
    "authors = [\n",
    "  (0, 'Edgar Allan Poe'),\n",
    "  (0, 'Mark Twain'),\n",
    "  (1, 'Jane Austen'),\n",
    "  (3, 'Arthur Conan Doyle'),\n",
    "  (2, 'Jorge Luis Borges'),\n",
    "]"
   ]
  },
  {
   "cell_type": "code",
   "execution_count": 7,
   "metadata": {},
   "outputs": [],
   "source": [
    "authors = [Author.objects.create(name=n, country=countries[c]) for c, n in authors]"
   ]
  },
  {
   "cell_type": "code",
   "execution_count": 8,
   "metadata": {},
   "outputs": [],
   "source": [
    "books = [\n",
    "  (2, 'Pride & Prejudice', 'B1', 5.0),\n",
    "  (3, 'A Study in Scarlet', 'B2', 4.6),\n",
    "  (2, 'Emma', 'B3', 3.50),]"
   ]
  },
  {
   "cell_type": "code",
   "execution_count": 9,
   "metadata": {},
   "outputs": [],
   "source": [
    "books = [\n",
    "    Book.objects.create(\n",
    "        title=t, author=authors[a], isbn=i, popularity=p\n",
    "    ) for a, t, i, p in books]"
   ]
  },
  {
   "cell_type": "code",
   "execution_count": 10,
   "metadata": {
    "scrolled": true
   },
   "outputs": [
    {
     "data": {
      "text/plain": [
       "<QuerySet [<Book: Pride & Prejudice(5.00)>, <Book: A Study in Scarlet(4.60)>, <Book: Emma(3.50)>]>"
      ]
     },
     "execution_count": 10,
     "metadata": {},
     "output_type": "execute_result"
    }
   ],
   "source": [
    "Book.objects.all()"
   ]
  }
 ],
 "metadata": {
  "kernelspec": {
   "display_name": "Python 3",
   "language": "python",
   "name": "python3"
  },
  "language_info": {
   "codemirror_mode": {
    "name": "ipython",
    "version": 3
   },
   "file_extension": ".py",
   "mimetype": "text/x-python",
   "name": "python",
   "nbconvert_exporter": "python",
   "pygments_lexer": "ipython3",
   "version": "3.6.4"
  }
 },
 "nbformat": 4,
 "nbformat_minor": 2
}
